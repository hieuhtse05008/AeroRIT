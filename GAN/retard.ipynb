{
 "cells": [
  {
   "cell_type": "code",
   "execution_count": 7,
   "metadata": {},
   "outputs": [
    {
     "name": "stdout",
     "output_type": "stream",
     "text": [
      "[[[1 2 3]\n",
      "  [2 3 4]\n",
      "  [3 4 5]]\n",
      "\n",
      " [[1 2 3]\n",
      "  [2 3 4]\n",
      "  [3 4 5]]\n",
      "\n",
      " [[1 2 3]\n",
      "  [2 3 4]\n",
      "  [3 4 5]]]\n",
      "[3 4 5]\n",
      "[2 3 4]\n"
     ]
    }
   ],
   "source": [
    "import numpy as np\n",
    "test = np.array([\n",
    "    [[1,2,3],[2,3,4],[3,4,5]],\n",
    "    [[1,2,3],[2,3,4],[3,4,5]],\n",
    "    [[1,2,3],[2,3,4],[3,4,5]],\n",
    "])\n",
    "print(test)\n",
    "print(test[1][2])\n",
    "test[1][2] = test[0][1]\n",
    "print(test[1][2])"
   ]
  }
 ],
 "metadata": {
  "kernelspec": {
   "display_name": "Python 3.6.13 ('aerorit')",
   "language": "python",
   "name": "python3"
  },
  "language_info": {
   "codemirror_mode": {
    "name": "ipython",
    "version": 3
   },
   "file_extension": ".py",
   "mimetype": "text/x-python",
   "name": "python",
   "nbconvert_exporter": "python",
   "pygments_lexer": "ipython3",
   "version": "3.6.13"
  },
  "orig_nbformat": 4,
  "vscode": {
   "interpreter": {
    "hash": "89abf092b880c9f44ce1e686c97db8e09d679c366f99038f07a98950d2bc11a6"
   }
  }
 },
 "nbformat": 4,
 "nbformat_minor": 2
}
