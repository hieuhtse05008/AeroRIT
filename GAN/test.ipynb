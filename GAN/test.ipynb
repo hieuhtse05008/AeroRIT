{
 "cells": [
  {
   "cell_type": "code",
   "execution_count": 1,
   "metadata": {},
   "outputs": [
    {
     "name": "stdout",
     "output_type": "stream",
     "text": [
      "Is CUDA supported by this system?True\n",
      "CUDA version: 11.3\n",
      "Name of current CUDA device:NVIDIA GeForce GTX 1060\n"
     ]
    }
   ],
   "source": [
    "import torch\n",
    "  \n",
    "print(\"Is CUDA supported by this system? {}\".format(torch.cuda.is_available()))\n",
    "print(\"CUDA version: {}\".format(torch.version.cuda))\n",
    "  \n",
    "# Storing ID of current CUDA device\n",
    "cuda_id = torch.cuda.current_device()\n",
    "\n",
    "        \n",
    "print(\"Name of current CUDA device:{}\".format(torch.cuda.get_device_name(cuda_id)))"
   ]
  }
 ],
 "metadata": {
  "interpreter": {
   "hash": "89abf092b880c9f44ce1e686c97db8e09d679c366f99038f07a98950d2bc11a6"
  },
  "kernelspec": {
   "display_name": "Python 3.6.13 ('aerorit')",
   "language": "python",
   "name": "python3"
  },
  "language_info": {
   "codemirror_mode": {
    "name": "ipython",
    "version": 3
   },
   "file_extension": ".py",
   "mimetype": "text/x-python",
   "name": "python",
   "nbconvert_exporter": "python",
   "pygments_lexer": "ipython3",
   "version": "3.6.13"
  },
  "orig_nbformat": 4
 },
 "nbformat": 4,
 "nbformat_minor": 2
}
